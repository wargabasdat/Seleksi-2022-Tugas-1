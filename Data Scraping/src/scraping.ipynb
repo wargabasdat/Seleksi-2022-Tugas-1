{
 "cells": [
  {
   "cell_type": "code",
   "execution_count": 1,
   "metadata": {
    "pycharm": {
     "name": "#%%\n"
    }
   },
   "outputs": [
    {
     "name": "stdout",
     "output_type": "stream",
     "text": [
      "200\n"
     ]
    }
   ],
   "source": [
    "from bs4 import BeautifulSoup\n",
    "import requests\n",
    "\n",
    "host = \"https://refactoring.guru/design-patterns/\"\n",
    "image_host = \"https://refactoring.guru\"\n",
    "\n",
    "page = requests.get(host + \"catalog/\")\n",
    "print(page.status_code)"
   ]
  },
  {
   "cell_type": "code",
   "execution_count": 2,
   "metadata": {
    "pycharm": {
     "name": "#%%\n"
    }
   },
   "outputs": [
    {
     "data": {
      "text/plain": "{'Abstract Factory',\n 'Adapter',\n 'Bridge',\n 'Builder',\n 'Chain of Responsibility',\n 'Command',\n 'Composite',\n 'Decorator',\n 'Facade',\n 'Factory Method',\n 'Flyweight',\n 'Iterator',\n 'Mediator',\n 'Memento',\n 'Observer',\n 'Prototype',\n 'Proxy',\n 'Singleton',\n 'State',\n 'Strategy',\n 'Template Method',\n 'Visitor'}"
     },
     "execution_count": 2,
     "metadata": {},
     "output_type": "execute_result"
    }
   ],
   "source": [
    "soup = BeautifulSoup(page.content, 'html.parser')\n",
    "\n",
    "patterns = soup.select(\".pattern-card\")\n",
    "pattern_names = [p.text for pattern in patterns for p in pattern.select(\".pattern-name\")]\n",
    "pattern_names = set(pattern_names)\n",
    "pattern_names"
   ]
  },
  {
   "cell_type": "code",
   "execution_count": 3,
   "metadata": {
    "pycharm": {
     "name": "#%%\n"
    }
   },
   "outputs": [
    {
     "name": "stdout",
     "output_type": "stream",
     "text": [
      "[{'pattern_name': 'Bridge', 'link': 'https://refactoring.guru/design-patterns/bridge'}, {'pattern_name': 'Abstract Factory', 'link': 'https://refactoring.guru/design-patterns/abstract-factory'}, {'pattern_name': 'Builder', 'link': 'https://refactoring.guru/design-patterns/builder'}, {'pattern_name': 'Iterator', 'link': 'https://refactoring.guru/design-patterns/iterator'}, {'pattern_name': 'Prototype', 'link': 'https://refactoring.guru/design-patterns/prototype'}, {'pattern_name': 'Adapter', 'link': 'https://refactoring.guru/design-patterns/adapter'}, {'pattern_name': 'Memento', 'link': 'https://refactoring.guru/design-patterns/memento'}, {'pattern_name': 'Decorator', 'link': 'https://refactoring.guru/design-patterns/decorator'}, {'pattern_name': 'Factory Method', 'link': 'https://refactoring.guru/design-patterns/factory-method'}, {'pattern_name': 'Composite', 'link': 'https://refactoring.guru/design-patterns/composite'}, {'pattern_name': 'Visitor', 'link': 'https://refactoring.guru/design-patterns/visitor'}, {'pattern_name': 'Flyweight', 'link': 'https://refactoring.guru/design-patterns/flyweight'}, {'pattern_name': 'Command', 'link': 'https://refactoring.guru/design-patterns/command'}, {'pattern_name': 'Chain of Responsibility', 'link': 'https://refactoring.guru/design-patterns/chain-of-responsibility'}, {'pattern_name': 'State', 'link': 'https://refactoring.guru/design-patterns/state'}, {'pattern_name': 'Observer', 'link': 'https://refactoring.guru/design-patterns/observer'}, {'pattern_name': 'Proxy', 'link': 'https://refactoring.guru/design-patterns/proxy'}, {'pattern_name': 'Strategy', 'link': 'https://refactoring.guru/design-patterns/strategy'}, {'pattern_name': 'Facade', 'link': 'https://refactoring.guru/design-patterns/facade'}, {'pattern_name': 'Singleton', 'link': 'https://refactoring.guru/design-patterns/singleton'}, {'pattern_name': 'Mediator', 'link': 'https://refactoring.guru/design-patterns/mediator'}, {'pattern_name': 'Template Method', 'link': 'https://refactoring.guru/design-patterns/template-method'}]\n"
     ]
    }
   ],
   "source": [
    "# because every pattern pages link suffixed by modified pattern name with changing whitespace to '-'\n",
    "# we can generate link to every patterns\n",
    "pattern_links = [host + p.lower().replace(\" \", \"-\") for p in pattern_names]\n",
    "\n",
    "\n",
    "# save pattern name and links\n",
    "\n",
    "pattern_link_rels = []\n",
    "for n, l in zip(pattern_names, pattern_links):\n",
    "  pattern_link_rel = {}\n",
    "  pattern_link_rel[\"pattern_name\"] = n;\n",
    "  pattern_link_rel[\"link\"] = l;\n",
    "  pattern_link_rels.append(pattern_link_rel)\n",
    "\n",
    "print(pattern_link_rels)\n"
   ]
  },
  {
   "cell_type": "code",
   "execution_count": 4,
   "outputs": [],
   "source": [
    "\n",
    "# access all the data\n",
    "patterns_pages = [requests.get(link) for link in pattern_links]"
   ],
   "metadata": {
    "collapsed": false,
    "pycharm": {
     "name": "#%%\n"
    }
   }
  },
  {
   "cell_type": "code",
   "execution_count": 5,
   "metadata": {
    "pycharm": {
     "name": "#%%\n"
    }
   },
   "outputs": [],
   "source": [
    "pattern_soups = [BeautifulSoup(p.content, 'html.parser') for p in patterns_pages]\n",
    "\n",
    "# data we want to retrieve\n",
    "# - every part of the page design pattern structure\n",
    "# - for part that has specific steps or list, parse it again\n",
    "# - for part that emphasize specific keyword, safe it\n",
    "# - for relations with other design pattern we can create the connection and the text\n",
    "# - for any part, save the text with BIGTEXT\n",
    "# - for any part, save the pictures\n",
    "# - preprocess each paragraph with https://rapidapi.com/MeaningCloud/api/summarization"
   ]
  },
  {
   "cell_type": "code",
   "execution_count": 6,
   "outputs": [
    {
     "name": "stdout",
     "output_type": "stream",
     "text": [
      "Bridge :   Intent,  Problem,  Solution,  Structure,  Pseudocode,  Applicability,  How to Implement,  Pros and Cons,  Relations with Other Patterns,  Code Examples \n",
      "\n",
      "\n",
      "Abstract Factory :   Intent,  Problem,  Solution,  Structure,  Pseudocode,  Applicability,  How to Implement,  Pros and Cons,  Relations with Other Patterns,  Code Examples,  Extra Content \n",
      "\n",
      "\n",
      "segment differ  {' Extra Content'} \n",
      "\n",
      "Builder :   Intent,  Problem,  Solution,  Structure,  Pseudocode,  Applicability,  How to Implement,  Pros and Cons,  Relations with Other Patterns,  Code Examples \n",
      "\n",
      "\n",
      "Iterator :   Intent,  Problem,  Solution,  Real-World Analogy,  Structure,  Pseudocode,  Applicability,  How to Implement,  Pros and Cons,  Relations with Other Patterns,  Code Examples \n",
      "\n",
      "\n",
      "segment differ  {' Real-World Analogy'} \n",
      "\n",
      "Prototype :   Intent,  Problem,  Solution,  Real-World Analogy,  Structure,  Pseudocode,  Applicability,  How to Implement,  Pros and Cons,  Relations with Other Patterns,  Code Examples \n",
      "\n",
      "\n",
      "segment differ  {' Real-World Analogy'} \n",
      "\n",
      "Adapter :   Intent,  Problem,  Solution,  Real-World Analogy,  Structure,  Pseudocode,  Applicability,  How to Implement,  Pros and Cons,  Relations with Other Patterns,  Code Examples \n",
      "\n",
      "\n",
      "segment differ  {' Real-World Analogy'} \n",
      "\n",
      "Memento :   Intent,  Problem,  Solution,  Structure,  Pseudocode,  Applicability,  How to Implement,  Pros and Cons,  Relations with Other Patterns,  Code Examples \n",
      "\n",
      "\n",
      "Decorator :   Intent,  Problem,  Solution,  Real-World Analogy,  Structure,  Pseudocode,  Applicability,  How to Implement,  Pros and Cons,  Relations with Other Patterns,  Code Examples \n",
      "\n",
      "\n",
      "segment differ  {' Real-World Analogy'} \n",
      "\n",
      "Factory Method :   Intent,  Problem,  Solution,  Structure,  Pseudocode,  Applicability,  How to Implement,  Pros and Cons,  Relations with Other Patterns,  Code Examples,  Extra Content \n",
      "\n",
      "\n",
      "segment differ  {' Extra Content'} \n",
      "\n",
      "Composite :   Intent,  Problem,  Solution,  Real-World Analogy,  Structure,  Pseudocode,  Applicability,  How to Implement,  Pros and Cons,  Relations with Other Patterns,  Code Examples \n",
      "\n",
      "\n",
      "segment differ  {' Real-World Analogy'} \n",
      "\n",
      "Visitor :   Intent,  Problem,  Solution,  Real-World Analogy,  Structure,  Pseudocode,  Applicability,  How to Implement,  Pros and Cons,  Relations with Other Patterns,  Code Examples,  Extra Content \n",
      "\n",
      "\n",
      "segment differ  {' Real-World Analogy', ' Extra Content'} \n",
      "\n",
      "Flyweight :   Intent,  Problem,  Solution,  Structure,  Pseudocode,  Applicability,  How to Implement,  Pros and Cons,  Relations with Other Patterns,  Code Examples \n",
      "\n",
      "\n",
      "Command :   Intent,  Problem,  Solution,  Real-World Analogy,  Structure,  Pseudocode,  Applicability,  How to Implement,  Pros and Cons,  Relations with Other Patterns,  Code Examples \n",
      "\n",
      "\n",
      "segment differ  {' Real-World Analogy'} \n",
      "\n",
      "Chain of Responsibility :   Intent,  Problem,  Solution,  Real-World Analogy,  Structure,  Pseudocode,  Applicability,  How to Implement,  Pros and Cons,  Relations with Other Patterns,  Code Examples \n",
      "\n",
      "\n",
      "segment differ  {' Real-World Analogy'} \n",
      "\n",
      "State :   Intent,  Problem,  Solution,  Real-World Analogy,  Structure,  Pseudocode,  Applicability,  How to Implement,  Pros and Cons,  Relations with Other Patterns,  Code Examples \n",
      "\n",
      "\n",
      "segment differ  {' Real-World Analogy'} \n",
      "\n",
      "Observer :   Intent,  Problem,  Solution,  Real-World Analogy,  Structure,  Pseudocode,  Applicability,  How to Implement,  Pros and Cons,  Relations with Other Patterns,  Code Examples \n",
      "\n",
      "\n",
      "segment differ  {' Real-World Analogy'} \n",
      "\n",
      "Proxy :   Intent,  Problem,  Solution,  Real-World Analogy,  Structure,  Pseudocode,  Applicability,  How to Implement,  Pros and Cons,  Relations with Other Patterns,  Code Examples \n",
      "\n",
      "\n",
      "segment differ  {' Real-World Analogy'} \n",
      "\n",
      "Strategy :   Intent,  Problem,  Solution,  Real-World Analogy,  Structure,  Pseudocode,  Applicability,  How to Implement,  Pros and Cons,  Relations with Other Patterns,  Code Examples \n",
      "\n",
      "\n",
      "segment differ  {' Real-World Analogy'} \n",
      "\n",
      "Facade :   Intent,  Problem,  Solution,  Real-World Analogy,  Structure,  Pseudocode,  Applicability,  How to Implement,  Pros and Cons,  Relations with Other Patterns,  Code Examples \n",
      "\n",
      "\n",
      "segment differ  {' Real-World Analogy'} \n",
      "\n",
      "Singleton :   Intent,  Problem,  Solution,  Real-World Analogy,  Structure,  Pseudocode,  Applicability,  How to Implement,  Pros and Cons,  Relations with Other Patterns,  Code Examples \n",
      "\n",
      "\n",
      "segment differ  {' Real-World Analogy'} \n",
      "\n",
      "Mediator :   Intent,  Problem,  Solution,  Real-World Analogy,  Structure,  Pseudocode,  Applicability,  How to Implement,  Pros and Cons,  Relations with Other Patterns,  Code Examples \n",
      "\n",
      "\n",
      "segment differ  {' Real-World Analogy'} \n",
      "\n",
      "Template Method :   Intent,  Problem,  Solution,  Real-World Analogy,  Structure,  Pseudocode,  Applicability,  How to Implement,  Pros and Cons,  Relations with Other Patterns,  Code Examples \n",
      "\n",
      "\n",
      "segment differ  {' Real-World Analogy'} \n",
      "\n",
      "[]\n"
     ]
    }
   ],
   "source": [
    "# see if each segments are the same\n",
    "names_pages = zip(pattern_names, pattern_soups)\n",
    "\n",
    "segment = set()\n",
    "for name, page in names_pages:\n",
    "  segments = [s.text for s in page.select(\"article > .section > h2\")]\n",
    "  print(name, \": \", \", \".join(segments), \"\\n\\n\")\n",
    "  if segment == set():\n",
    "    segment = set(segments)\n",
    "  elif segment != set(segments):\n",
    "    print(\"segment differ \", segment.symmetric_difference(set(segments)),  \"\\n\")\n",
    "print(list(names_pages))"
   ],
   "metadata": {
    "collapsed": false,
    "pycharm": {
     "name": "#%%\n"
    }
   }
  },
  {
   "cell_type": "markdown",
   "source": [
    "because there is different segment in each page, we will make segment as its own table\n"
   ],
   "metadata": {
    "collapsed": false,
    "pycharm": {
     "name": "#%% md\n"
    }
   }
  },
  {
   "cell_type": "code",
   "execution_count": 7,
   "outputs": [
    {
     "name": "stdout",
     "output_type": "stream",
     "text": [
      "[{'pattern_name': 'Bridge', 'segment_name': 'Intent'}, {'pattern_name': 'Bridge', 'segment_name': 'Problem'}, {'pattern_name': 'Bridge', 'segment_name': 'Solution'}, {'pattern_name': 'Bridge', 'segment_name': 'Structure'}, {'pattern_name': 'Bridge', 'segment_name': 'Pseudocode'}, {'pattern_name': 'Bridge', 'segment_name': 'Applicability'}, {'pattern_name': 'Bridge', 'segment_name': 'How to Implement'}, {'pattern_name': 'Bridge', 'segment_name': 'Pros and Cons'}, {'pattern_name': 'Bridge', 'segment_name': 'Relations with Other Patterns'}, {'pattern_name': 'Bridge', 'segment_name': 'Code Examples'}, {'pattern_name': 'Abstract Factory', 'segment_name': 'Intent'}, {'pattern_name': 'Abstract Factory', 'segment_name': 'Problem'}, {'pattern_name': 'Abstract Factory', 'segment_name': 'Solution'}, {'pattern_name': 'Abstract Factory', 'segment_name': 'Structure'}, {'pattern_name': 'Abstract Factory', 'segment_name': 'Pseudocode'}, {'pattern_name': 'Abstract Factory', 'segment_name': 'Applicability'}, {'pattern_name': 'Abstract Factory', 'segment_name': 'How to Implement'}, {'pattern_name': 'Abstract Factory', 'segment_name': 'Pros and Cons'}, {'pattern_name': 'Abstract Factory', 'segment_name': 'Relations with Other Patterns'}, {'pattern_name': 'Abstract Factory', 'segment_name': 'Code Examples'}, {'pattern_name': 'Abstract Factory', 'segment_name': 'Extra Content'}, {'pattern_name': 'Builder', 'segment_name': 'Intent'}, {'pattern_name': 'Builder', 'segment_name': 'Problem'}, {'pattern_name': 'Builder', 'segment_name': 'Solution'}, {'pattern_name': 'Builder', 'segment_name': 'Structure'}, {'pattern_name': 'Builder', 'segment_name': 'Pseudocode'}, {'pattern_name': 'Builder', 'segment_name': 'Applicability'}, {'pattern_name': 'Builder', 'segment_name': 'How to Implement'}, {'pattern_name': 'Builder', 'segment_name': 'Pros and Cons'}, {'pattern_name': 'Builder', 'segment_name': 'Relations with Other Patterns'}, {'pattern_name': 'Builder', 'segment_name': 'Code Examples'}, {'pattern_name': 'Iterator', 'segment_name': 'Intent'}, {'pattern_name': 'Iterator', 'segment_name': 'Problem'}, {'pattern_name': 'Iterator', 'segment_name': 'Solution'}, {'pattern_name': 'Iterator', 'segment_name': 'Real-World Analogy'}, {'pattern_name': 'Iterator', 'segment_name': 'Structure'}, {'pattern_name': 'Iterator', 'segment_name': 'Pseudocode'}, {'pattern_name': 'Iterator', 'segment_name': 'Applicability'}, {'pattern_name': 'Iterator', 'segment_name': 'How to Implement'}, {'pattern_name': 'Iterator', 'segment_name': 'Pros and Cons'}, {'pattern_name': 'Iterator', 'segment_name': 'Relations with Other Patterns'}, {'pattern_name': 'Iterator', 'segment_name': 'Code Examples'}, {'pattern_name': 'Prototype', 'segment_name': 'Intent'}, {'pattern_name': 'Prototype', 'segment_name': 'Problem'}, {'pattern_name': 'Prototype', 'segment_name': 'Solution'}, {'pattern_name': 'Prototype', 'segment_name': 'Real-World Analogy'}, {'pattern_name': 'Prototype', 'segment_name': 'Structure'}, {'pattern_name': 'Prototype', 'segment_name': 'Pseudocode'}, {'pattern_name': 'Prototype', 'segment_name': 'Applicability'}, {'pattern_name': 'Prototype', 'segment_name': 'How to Implement'}, {'pattern_name': 'Prototype', 'segment_name': 'Pros and Cons'}, {'pattern_name': 'Prototype', 'segment_name': 'Relations with Other Patterns'}, {'pattern_name': 'Prototype', 'segment_name': 'Code Examples'}, {'pattern_name': 'Adapter', 'segment_name': 'Intent'}, {'pattern_name': 'Adapter', 'segment_name': 'Problem'}, {'pattern_name': 'Adapter', 'segment_name': 'Solution'}, {'pattern_name': 'Adapter', 'segment_name': 'Real-World Analogy'}, {'pattern_name': 'Adapter', 'segment_name': 'Structure'}, {'pattern_name': 'Adapter', 'segment_name': 'Pseudocode'}, {'pattern_name': 'Adapter', 'segment_name': 'Applicability'}, {'pattern_name': 'Adapter', 'segment_name': 'How to Implement'}, {'pattern_name': 'Adapter', 'segment_name': 'Pros and Cons'}, {'pattern_name': 'Adapter', 'segment_name': 'Relations with Other Patterns'}, {'pattern_name': 'Adapter', 'segment_name': 'Code Examples'}, {'pattern_name': 'Memento', 'segment_name': 'Intent'}, {'pattern_name': 'Memento', 'segment_name': 'Problem'}, {'pattern_name': 'Memento', 'segment_name': 'Solution'}, {'pattern_name': 'Memento', 'segment_name': 'Structure'}, {'pattern_name': 'Memento', 'segment_name': 'Pseudocode'}, {'pattern_name': 'Memento', 'segment_name': 'Applicability'}, {'pattern_name': 'Memento', 'segment_name': 'How to Implement'}, {'pattern_name': 'Memento', 'segment_name': 'Pros and Cons'}, {'pattern_name': 'Memento', 'segment_name': 'Relations with Other Patterns'}, {'pattern_name': 'Memento', 'segment_name': 'Code Examples'}, {'pattern_name': 'Decorator', 'segment_name': 'Intent'}, {'pattern_name': 'Decorator', 'segment_name': 'Problem'}, {'pattern_name': 'Decorator', 'segment_name': 'Solution'}, {'pattern_name': 'Decorator', 'segment_name': 'Real-World Analogy'}, {'pattern_name': 'Decorator', 'segment_name': 'Structure'}, {'pattern_name': 'Decorator', 'segment_name': 'Pseudocode'}, {'pattern_name': 'Decorator', 'segment_name': 'Applicability'}, {'pattern_name': 'Decorator', 'segment_name': 'How to Implement'}, {'pattern_name': 'Decorator', 'segment_name': 'Pros and Cons'}, {'pattern_name': 'Decorator', 'segment_name': 'Relations with Other Patterns'}, {'pattern_name': 'Decorator', 'segment_name': 'Code Examples'}, {'pattern_name': 'Factory Method', 'segment_name': 'Intent'}, {'pattern_name': 'Factory Method', 'segment_name': 'Problem'}, {'pattern_name': 'Factory Method', 'segment_name': 'Solution'}, {'pattern_name': 'Factory Method', 'segment_name': 'Structure'}, {'pattern_name': 'Factory Method', 'segment_name': 'Pseudocode'}, {'pattern_name': 'Factory Method', 'segment_name': 'Applicability'}, {'pattern_name': 'Factory Method', 'segment_name': 'How to Implement'}, {'pattern_name': 'Factory Method', 'segment_name': 'Pros and Cons'}, {'pattern_name': 'Factory Method', 'segment_name': 'Relations with Other Patterns'}, {'pattern_name': 'Factory Method', 'segment_name': 'Code Examples'}, {'pattern_name': 'Factory Method', 'segment_name': 'Extra Content'}, {'pattern_name': 'Composite', 'segment_name': 'Intent'}, {'pattern_name': 'Composite', 'segment_name': 'Problem'}, {'pattern_name': 'Composite', 'segment_name': 'Solution'}, {'pattern_name': 'Composite', 'segment_name': 'Real-World Analogy'}, {'pattern_name': 'Composite', 'segment_name': 'Structure'}, {'pattern_name': 'Composite', 'segment_name': 'Pseudocode'}, {'pattern_name': 'Composite', 'segment_name': 'Applicability'}, {'pattern_name': 'Composite', 'segment_name': 'How to Implement'}, {'pattern_name': 'Composite', 'segment_name': 'Pros and Cons'}, {'pattern_name': 'Composite', 'segment_name': 'Relations with Other Patterns'}, {'pattern_name': 'Composite', 'segment_name': 'Code Examples'}, {'pattern_name': 'Visitor', 'segment_name': 'Intent'}, {'pattern_name': 'Visitor', 'segment_name': 'Problem'}, {'pattern_name': 'Visitor', 'segment_name': 'Solution'}, {'pattern_name': 'Visitor', 'segment_name': 'Real-World Analogy'}, {'pattern_name': 'Visitor', 'segment_name': 'Structure'}, {'pattern_name': 'Visitor', 'segment_name': 'Pseudocode'}, {'pattern_name': 'Visitor', 'segment_name': 'Applicability'}, {'pattern_name': 'Visitor', 'segment_name': 'How to Implement'}, {'pattern_name': 'Visitor', 'segment_name': 'Pros and Cons'}, {'pattern_name': 'Visitor', 'segment_name': 'Relations with Other Patterns'}, {'pattern_name': 'Visitor', 'segment_name': 'Code Examples'}, {'pattern_name': 'Visitor', 'segment_name': 'Extra Content'}, {'pattern_name': 'Flyweight', 'segment_name': 'Intent'}, {'pattern_name': 'Flyweight', 'segment_name': 'Problem'}, {'pattern_name': 'Flyweight', 'segment_name': 'Solution'}, {'pattern_name': 'Flyweight', 'segment_name': 'Structure'}, {'pattern_name': 'Flyweight', 'segment_name': 'Pseudocode'}, {'pattern_name': 'Flyweight', 'segment_name': 'Applicability'}, {'pattern_name': 'Flyweight', 'segment_name': 'How to Implement'}, {'pattern_name': 'Flyweight', 'segment_name': 'Pros and Cons'}, {'pattern_name': 'Flyweight', 'segment_name': 'Relations with Other Patterns'}, {'pattern_name': 'Flyweight', 'segment_name': 'Code Examples'}, {'pattern_name': 'Command', 'segment_name': 'Intent'}, {'pattern_name': 'Command', 'segment_name': 'Problem'}, {'pattern_name': 'Command', 'segment_name': 'Solution'}, {'pattern_name': 'Command', 'segment_name': 'Real-World Analogy'}, {'pattern_name': 'Command', 'segment_name': 'Structure'}, {'pattern_name': 'Command', 'segment_name': 'Pseudocode'}, {'pattern_name': 'Command', 'segment_name': 'Applicability'}, {'pattern_name': 'Command', 'segment_name': 'How to Implement'}, {'pattern_name': 'Command', 'segment_name': 'Pros and Cons'}, {'pattern_name': 'Command', 'segment_name': 'Relations with Other Patterns'}, {'pattern_name': 'Command', 'segment_name': 'Code Examples'}, {'pattern_name': 'Chain of Responsibility', 'segment_name': 'Intent'}, {'pattern_name': 'Chain of Responsibility', 'segment_name': 'Problem'}, {'pattern_name': 'Chain of Responsibility', 'segment_name': 'Solution'}, {'pattern_name': 'Chain of Responsibility', 'segment_name': 'Real-World Analogy'}, {'pattern_name': 'Chain of Responsibility', 'segment_name': 'Structure'}, {'pattern_name': 'Chain of Responsibility', 'segment_name': 'Pseudocode'}, {'pattern_name': 'Chain of Responsibility', 'segment_name': 'Applicability'}, {'pattern_name': 'Chain of Responsibility', 'segment_name': 'How to Implement'}, {'pattern_name': 'Chain of Responsibility', 'segment_name': 'Pros and Cons'}, {'pattern_name': 'Chain of Responsibility', 'segment_name': 'Relations with Other Patterns'}, {'pattern_name': 'Chain of Responsibility', 'segment_name': 'Code Examples'}, {'pattern_name': 'State', 'segment_name': 'Intent'}, {'pattern_name': 'State', 'segment_name': 'Problem'}, {'pattern_name': 'State', 'segment_name': 'Solution'}, {'pattern_name': 'State', 'segment_name': 'Real-World Analogy'}, {'pattern_name': 'State', 'segment_name': 'Structure'}, {'pattern_name': 'State', 'segment_name': 'Pseudocode'}, {'pattern_name': 'State', 'segment_name': 'Applicability'}, {'pattern_name': 'State', 'segment_name': 'How to Implement'}, {'pattern_name': 'State', 'segment_name': 'Pros and Cons'}, {'pattern_name': 'State', 'segment_name': 'Relations with Other Patterns'}, {'pattern_name': 'State', 'segment_name': 'Code Examples'}, {'pattern_name': 'Observer', 'segment_name': 'Intent'}, {'pattern_name': 'Observer', 'segment_name': 'Problem'}, {'pattern_name': 'Observer', 'segment_name': 'Solution'}, {'pattern_name': 'Observer', 'segment_name': 'Real-World Analogy'}, {'pattern_name': 'Observer', 'segment_name': 'Structure'}, {'pattern_name': 'Observer', 'segment_name': 'Pseudocode'}, {'pattern_name': 'Observer', 'segment_name': 'Applicability'}, {'pattern_name': 'Observer', 'segment_name': 'How to Implement'}, {'pattern_name': 'Observer', 'segment_name': 'Pros and Cons'}, {'pattern_name': 'Observer', 'segment_name': 'Relations with Other Patterns'}, {'pattern_name': 'Observer', 'segment_name': 'Code Examples'}, {'pattern_name': 'Proxy', 'segment_name': 'Intent'}, {'pattern_name': 'Proxy', 'segment_name': 'Problem'}, {'pattern_name': 'Proxy', 'segment_name': 'Solution'}, {'pattern_name': 'Proxy', 'segment_name': 'Real-World Analogy'}, {'pattern_name': 'Proxy', 'segment_name': 'Structure'}, {'pattern_name': 'Proxy', 'segment_name': 'Pseudocode'}, {'pattern_name': 'Proxy', 'segment_name': 'Applicability'}, {'pattern_name': 'Proxy', 'segment_name': 'How to Implement'}, {'pattern_name': 'Proxy', 'segment_name': 'Pros and Cons'}, {'pattern_name': 'Proxy', 'segment_name': 'Relations with Other Patterns'}, {'pattern_name': 'Proxy', 'segment_name': 'Code Examples'}, {'pattern_name': 'Strategy', 'segment_name': 'Intent'}, {'pattern_name': 'Strategy', 'segment_name': 'Problem'}, {'pattern_name': 'Strategy', 'segment_name': 'Solution'}, {'pattern_name': 'Strategy', 'segment_name': 'Real-World Analogy'}, {'pattern_name': 'Strategy', 'segment_name': 'Structure'}, {'pattern_name': 'Strategy', 'segment_name': 'Pseudocode'}, {'pattern_name': 'Strategy', 'segment_name': 'Applicability'}, {'pattern_name': 'Strategy', 'segment_name': 'How to Implement'}, {'pattern_name': 'Strategy', 'segment_name': 'Pros and Cons'}, {'pattern_name': 'Strategy', 'segment_name': 'Relations with Other Patterns'}, {'pattern_name': 'Strategy', 'segment_name': 'Code Examples'}, {'pattern_name': 'Facade', 'segment_name': 'Intent'}, {'pattern_name': 'Facade', 'segment_name': 'Problem'}, {'pattern_name': 'Facade', 'segment_name': 'Solution'}, {'pattern_name': 'Facade', 'segment_name': 'Real-World Analogy'}, {'pattern_name': 'Facade', 'segment_name': 'Structure'}, {'pattern_name': 'Facade', 'segment_name': 'Pseudocode'}, {'pattern_name': 'Facade', 'segment_name': 'Applicability'}, {'pattern_name': 'Facade', 'segment_name': 'How to Implement'}, {'pattern_name': 'Facade', 'segment_name': 'Pros and Cons'}, {'pattern_name': 'Facade', 'segment_name': 'Relations with Other Patterns'}, {'pattern_name': 'Facade', 'segment_name': 'Code Examples'}, {'pattern_name': 'Singleton', 'segment_name': 'Intent'}, {'pattern_name': 'Singleton', 'segment_name': 'Problem'}, {'pattern_name': 'Singleton', 'segment_name': 'Solution'}, {'pattern_name': 'Singleton', 'segment_name': 'Real-World Analogy'}, {'pattern_name': 'Singleton', 'segment_name': 'Structure'}, {'pattern_name': 'Singleton', 'segment_name': 'Pseudocode'}, {'pattern_name': 'Singleton', 'segment_name': 'Applicability'}, {'pattern_name': 'Singleton', 'segment_name': 'How to Implement'}, {'pattern_name': 'Singleton', 'segment_name': 'Pros and Cons'}, {'pattern_name': 'Singleton', 'segment_name': 'Relations with Other Patterns'}, {'pattern_name': 'Singleton', 'segment_name': 'Code Examples'}, {'pattern_name': 'Mediator', 'segment_name': 'Intent'}, {'pattern_name': 'Mediator', 'segment_name': 'Problem'}, {'pattern_name': 'Mediator', 'segment_name': 'Solution'}, {'pattern_name': 'Mediator', 'segment_name': 'Real-World Analogy'}, {'pattern_name': 'Mediator', 'segment_name': 'Structure'}, {'pattern_name': 'Mediator', 'segment_name': 'Pseudocode'}, {'pattern_name': 'Mediator', 'segment_name': 'Applicability'}, {'pattern_name': 'Mediator', 'segment_name': 'How to Implement'}, {'pattern_name': 'Mediator', 'segment_name': 'Pros and Cons'}, {'pattern_name': 'Mediator', 'segment_name': 'Relations with Other Patterns'}, {'pattern_name': 'Mediator', 'segment_name': 'Code Examples'}, {'pattern_name': 'Template Method', 'segment_name': 'Intent'}, {'pattern_name': 'Template Method', 'segment_name': 'Problem'}, {'pattern_name': 'Template Method', 'segment_name': 'Solution'}, {'pattern_name': 'Template Method', 'segment_name': 'Real-World Analogy'}, {'pattern_name': 'Template Method', 'segment_name': 'Structure'}, {'pattern_name': 'Template Method', 'segment_name': 'Pseudocode'}, {'pattern_name': 'Template Method', 'segment_name': 'Applicability'}, {'pattern_name': 'Template Method', 'segment_name': 'How to Implement'}, {'pattern_name': 'Template Method', 'segment_name': 'Pros and Cons'}, {'pattern_name': 'Template Method', 'segment_name': 'Relations with Other Patterns'}, {'pattern_name': 'Template Method', 'segment_name': 'Code Examples'}]\n"
     ]
    }
   ],
   "source": [
    "segment_entities = set()\n",
    "segment_pattern_relation = []\n",
    "\n",
    "names_pages = zip(pattern_names, pattern_soups)\n",
    "\n",
    "for name,page in names_pages:\n",
    "  segments = [s.text.strip() for s in page.select(\"article > .section > h2\")]\n",
    "  segment_pattern_relation.append([name, segments])\n",
    "  for s in segments:\n",
    "    segment_entities.add(s.strip())\n",
    "\n",
    "segment_entities_SQL = list(segment_entities)\n",
    "segment_entities_SQL = [{\"segment_name\": s} for s in segment_entities]\n",
    "\n",
    "segment_pattern_relation_SQL = [{\"pattern_name\": n, \"segment_name\": s} for n,ss in segment_pattern_relation for s in ss]\n",
    "\n",
    "\n",
    "print(segment_pattern_relation_SQL)"
   ],
   "metadata": {
    "collapsed": false,
    "pycharm": {
     "name": "#%%\n"
    }
   }
  },
  {
   "cell_type": "markdown",
   "source": [
    "In each page segment of every pattern usually there is a image, this image can be valuable abstraction of information from the website. We will make the image become a weak entity with the pattern name"
   ],
   "metadata": {
    "collapsed": false,
    "pycharm": {
     "name": "#%% md\n"
    }
   }
  },
  {
   "cell_type": "code",
   "execution_count": 8,
   "outputs": [
    {
     "name": "stdout",
     "output_type": "stream",
     "text": [
      "[{'pattern_name': 'Bridge', 'segment_name': 'Intent', 'link': 'https://refactoring.guru/images/patterns/content/bridge/bridge.png?id=bd543d4fb32e11647767301581a5ad54', 'alt': 'Bridge design&nbsp;pattern'}, {'pattern_name': 'Bridge', 'segment_name': 'Problem', 'link': 'https://refactoring.guru/images/patterns/diagrams/bridge/problem-en.png?id=81f8ed6e6f5d673e15203b22a7a3c502', 'alt': 'Bridge pattern problem'}, {'pattern_name': 'Bridge', 'segment_name': 'Solution', 'link': 'https://refactoring.guru/images/patterns/diagrams/bridge/solution-en.png?id=b72caae18c400d6088072f2f3adda7cd', 'alt': 'Solution suggested by the Bridge pattern'}, {'pattern_name': 'Bridge', 'segment_name': 'Pseudocode', 'link': 'https://refactoring.guru/images/patterns/diagrams/bridge/example-en.png?id=e6902e5ed2791ba4adf4ce20f677fcb1', 'alt': 'Structure of the Bridge pattern example'}, {'pattern_name': 'Abstract Factory', 'segment_name': 'Intent', 'link': 'https://refactoring.guru/images/patterns/content/abstract-factory/abstract-factory-en.png?id=d0210ee255712a245fead94a3fafabe0', 'alt': 'Abstract Factory&nbsp;pattern'}, {'pattern_name': 'Abstract Factory', 'segment_name': 'Problem', 'link': 'https://refactoring.guru/images/patterns/diagrams/abstract-factory/problem-en.png?id=e38c307511e684828be898de02d6c268', 'alt': 'Product families and their variants.'}, {'pattern_name': 'Abstract Factory', 'segment_name': 'Solution', 'link': 'https://refactoring.guru/images/patterns/diagrams/abstract-factory/solution1.png?id=71f2018d8bb443b9cce90d57110675e3', 'alt': 'The Chairs class hierarchy'}, {'pattern_name': 'Abstract Factory', 'segment_name': 'Pseudocode', 'link': 'https://refactoring.guru/images/patterns/diagrams/abstract-factory/example.png?id=5928a61d18bf00b047463471c599100a', 'alt': 'The class diagram for the Abstract Factory pattern example'}, {'pattern_name': 'Builder', 'segment_name': 'Intent', 'link': 'https://refactoring.guru/images/patterns/content/builder/builder-en.png?id=617612423ea3752477dc90929115b3ee', 'alt': 'Builder design&nbsp;pattern'}, {'pattern_name': 'Builder', 'segment_name': 'Problem', 'link': 'https://refactoring.guru/images/patterns/diagrams/builder/problem1.png?id=11e715c5c97811f848c48e0f399bb05e', 'alt': 'Lots of subclasses create another problem'}, {'pattern_name': 'Builder', 'segment_name': 'Solution', 'link': 'https://refactoring.guru/images/patterns/diagrams/builder/solution1.png?id=8ce82137f8935998de802cae59e00e11', 'alt': 'Applying the Builder pattern'}, {'pattern_name': 'Builder', 'segment_name': 'Pseudocode', 'link': 'https://refactoring.guru/images/patterns/diagrams/builder/example-en.png?id=8386bdde073f993b5dfc4727697cf2fe', 'alt': 'The structure of the Builder pattern example'}, {'pattern_name': 'Iterator', 'segment_name': 'Intent', 'link': 'https://refactoring.guru/images/patterns/content/iterator/iterator-en.png?id=d19123d71d355d01b0ede4be173eb695', 'alt': 'Iterator design&nbsp;pattern'}, {'pattern_name': 'Iterator', 'segment_name': 'Problem', 'link': 'https://refactoring.guru/images/patterns/diagrams/iterator/problem1.png?id=52ef2fe2d4920e3fed696c221fe757f2', 'alt': 'Various types of collections'}, {'pattern_name': 'Iterator', 'segment_name': 'Solution', 'link': 'https://refactoring.guru/images/patterns/diagrams/iterator/solution1.png?id=2f5fbcce6099d8ea09b2fbb83e3e7059', 'alt': 'Iterators implement various traversal algorithms'}, {'pattern_name': 'Iterator', 'segment_name': 'Real-World Analogy', 'link': 'https://refactoring.guru/images/patterns/content/iterator/iterator-comic-1-en.png?id=fa30f5a944179e6fb12203fef5d5ed9d', 'alt': 'Various ways to walk around Rome'}, {'pattern_name': 'Iterator', 'segment_name': 'Pseudocode', 'link': 'https://refactoring.guru/images/patterns/diagrams/iterator/example.png?id=f2a24ef3787bf80ed450709240506ff2', 'alt': 'Structure of the Iterator pattern example'}, {'pattern_name': 'Prototype', 'segment_name': 'Intent', 'link': 'https://refactoring.guru/images/patterns/content/prototype/prototype.png?id=e912b1ada20bbf7b2ffc09e93b9fab20', 'alt': 'Prototype Design&nbsp;Pattern'}, {'pattern_name': 'Prototype', 'segment_name': 'Problem', 'link': 'https://refactoring.guru/images/patterns/content/prototype/prototype-comic-1-en.png?id=4cc45ae42e26cc9533a6ac540713d1fa', 'alt': 'What can go wrong when copying things “from the outside\"?” width='}, {'pattern_name': 'Prototype', 'segment_name': 'Solution', 'link': 'https://refactoring.guru/images/patterns/content/prototype/prototype-comic-2-en.png?id=e1df2dc39404c5eb2d485b7ae7c9914f', 'alt': 'Pre-built prototypes'}, {'pattern_name': 'Prototype', 'segment_name': 'Real-World Analogy', 'link': 'https://refactoring.guru/images/patterns/content/prototype/prototype-comic-3-en.png?id=ff16dedbd0c10944d27bf87d2adcf8a6', 'alt': 'The cell division'}, {'pattern_name': 'Prototype', 'segment_name': 'Pseudocode', 'link': 'https://refactoring.guru/images/patterns/diagrams/prototype/example.png?id=47bc6c1058cb100b81e675b5ca6bda6c', 'alt': 'The structure of the Prototype pattern example'}, {'pattern_name': 'Adapter', 'segment_name': 'Intent', 'link': 'https://refactoring.guru/images/patterns/content/adapter/adapter-en.png?id=11ef6ae6177291834323e3f918c47cd2', 'alt': 'Adapter design&nbsp;pattern'}, {'pattern_name': 'Adapter', 'segment_name': 'Problem', 'link': 'https://refactoring.guru/images/patterns/diagrams/adapter/problem-en.png?id=60d01f6c72ba85030cd52d5955caa3d8', 'alt': 'The structure of the app before integration with the analytics library'}, {'pattern_name': 'Adapter', 'segment_name': 'Solution', 'link': 'https://refactoring.guru/images/patterns/diagrams/adapter/solution-en.png?id=5f4f1b4575236a3853f274b690bd6656', 'alt': 'Adapter’s solution'}, {'pattern_name': 'Adapter', 'segment_name': 'Real-World Analogy', 'link': 'https://refactoring.guru/images/patterns/content/adapter/adapter-comic-1-en.png?id=c3842e3fff878a5b93e3186606998fc6', 'alt': 'The Adapter pattern example'}, {'pattern_name': 'Adapter', 'segment_name': 'Pseudocode', 'link': 'https://refactoring.guru/images/patterns/diagrams/adapter/example.png?id=9d2b6857ce256f2c669383ce4df3d0aa', 'alt': 'Structure of the Adapter pattern example'}, {'pattern_name': 'Memento', 'segment_name': 'Intent', 'link': 'https://refactoring.guru/images/patterns/content/memento/memento-en.png?id=e51abf6a98a5b1f91e0f3a000f113e1a', 'alt': 'Memento design&nbsp;pattern'}, {'pattern_name': 'Memento', 'segment_name': 'Problem', 'link': 'https://refactoring.guru/images/patterns/diagrams/memento/problem1-en.png?id=e0d795264bcc87b62a27e41d89d54899', 'alt': 'Reverting operations in the editor'}, {'pattern_name': 'Memento', 'segment_name': 'Solution', 'link': 'https://refactoring.guru/images/patterns/diagrams/memento/solution-en.png?id=b8adab0fc6d22cf8d630e560b9a8fafd', 'alt': 'The originator has full access to the memento, whereas the caretaker can only access the metadata'}, {'pattern_name': 'Memento', 'segment_name': 'Pseudocode', 'link': 'https://refactoring.guru/images/patterns/diagrams/memento/example.png?id=fb2196b065f374a1c2a64a0943463760', 'alt': 'Structure of the Memento example'}, {'pattern_name': 'Decorator', 'segment_name': 'Intent', 'link': 'https://refactoring.guru/images/patterns/content/decorator/decorator.png?id=710c66670c7123e0928d3b3758aea79e', 'alt': 'Decorator design&nbsp;pattern'}, {'pattern_name': 'Decorator', 'segment_name': 'Problem', 'link': 'https://refactoring.guru/images/patterns/diagrams/decorator/problem1-en.png?id=7658efddaaf43acb64ac63a92025cc1e', 'alt': 'Structure of the library before applying the Decorator pattern'}, {'pattern_name': 'Decorator', 'segment_name': 'Solution', 'link': 'https://refactoring.guru/images/patterns/diagrams/decorator/solution1-en.png?id=468e68f1e9ae21649d63dd454500741d', 'alt': 'Inheritance vs. Aggregation'}, {'pattern_name': 'Decorator', 'segment_name': 'Real-World Analogy', 'link': 'https://refactoring.guru/images/patterns/content/decorator/decorator-comic-1.png?id=80d95baacbfb91f5bcdbdc7814b0c64d', 'alt': 'Example of the Decorator pattern'}, {'pattern_name': 'Decorator', 'segment_name': 'Pseudocode', 'link': 'https://refactoring.guru/images/patterns/diagrams/decorator/example.png?id=eec9dc488f00c85f50e764323baa723e', 'alt': 'Structure of the Decorator pattern example'}, {'pattern_name': 'Factory Method', 'segment_name': 'Intent', 'link': 'https://refactoring.guru/images/patterns/content/factory-method/factory-method-en.png?id=cfa26f33dc8473e803fadae0d262100a', 'alt': 'Factory Method&nbsp;pattern'}, {'pattern_name': 'Factory Method', 'segment_name': 'Problem', 'link': 'https://refactoring.guru/images/patterns/diagrams/factory-method/problem1-en.png?id=de638561be0bbb1025ada6bfcb815def', 'alt': 'Adding a new transportation class to the program causes an issue'}, {'pattern_name': 'Factory Method', 'segment_name': 'Solution', 'link': 'https://refactoring.guru/images/patterns/diagrams/factory-method/solution1.png?id=fc756d2af296b5b4d482e548214d08ef', 'alt': 'The structure of creator classes'}, {'pattern_name': 'Factory Method', 'segment_name': 'Pseudocode', 'link': 'https://refactoring.guru/images/patterns/diagrams/factory-method/example.png?id=67db9a5cb817913444efcb1c067c9835', 'alt': 'The structure of the Factory Method pattern example'}, {'pattern_name': 'Composite', 'segment_name': 'Intent', 'link': 'https://refactoring.guru/images/patterns/content/composite/composite.png?id=73bcf0d94db360b636cd745f710d19db', 'alt': 'Composite design&nbsp;pattern'}, {'pattern_name': 'Composite', 'segment_name': 'Problem', 'link': 'https://refactoring.guru/images/patterns/diagrams/composite/problem-en.png?id=3320d7ddc5bdc3e43752bb4393710794', 'alt': 'Structure of a complex order'}, {'pattern_name': 'Composite', 'segment_name': 'Solution', 'link': 'https://refactoring.guru/images/patterns/content/composite/composite-comic-1-en.png?id=5510969e5584e7c0cb65d533901bb8f6', 'alt': 'Solution suggested by the Composite pattern'}, {'pattern_name': 'Composite', 'segment_name': 'Real-World Analogy', 'link': 'https://refactoring.guru/images/patterns/diagrams/composite/live-example.png?id=548a7cec45b493af66e8bfe524a137d3', 'alt': 'An example of a military structure'}, {'pattern_name': 'Composite', 'segment_name': 'Pseudocode', 'link': 'https://refactoring.guru/images/patterns/diagrams/composite/example.png?id=98ba81d07c979038dd2ebf3c83a2e19f', 'alt': 'Structure of the Composite example'}, {'pattern_name': 'Visitor', 'segment_name': 'Intent', 'link': 'https://refactoring.guru/images/patterns/content/visitor/visitor.png?id=f36d100188340db7a18854ef7916f972', 'alt': 'Visitor Design&nbsp;Pattern'}, {'pattern_name': 'Visitor', 'segment_name': 'Problem', 'link': 'https://refactoring.guru/images/patterns/diagrams/visitor/problem1.png?id=e7076532da1e936f3519c63270da8454', 'alt': 'Exporting the graph into XML'}, {'pattern_name': 'Visitor', 'segment_name': 'Real-World Analogy', 'link': 'https://refactoring.guru/images/patterns/content/visitor/visitor-comic-1.png?id=7ee4fa8800f7c4df4e1aa3b1aca2b7f1', 'alt': 'Insurance agent'}, {'pattern_name': 'Visitor', 'segment_name': 'Pseudocode', 'link': 'https://refactoring.guru/images/patterns/diagrams/visitor/example.png?id=d66acd1b9096c47db17ab3bb82b54a59', 'alt': 'Structure of the Visitor pattern example'}, {'pattern_name': 'Flyweight', 'segment_name': 'Intent', 'link': 'https://refactoring.guru/images/patterns/content/flyweight/flyweight.png?id=e34fbacb847dd609b5e68aaf252c4db0', 'alt': 'Flyweight design&nbsp;pattern'}, {'pattern_name': 'Flyweight', 'segment_name': 'Problem', 'link': 'https://refactoring.guru/images/patterns/diagrams/flyweight/problem-en.png?id=1ab15b46781c548e3e7c55dddbee72de', 'alt': 'Flyweight pattern problem'}, {'pattern_name': 'Flyweight', 'segment_name': 'Solution', 'link': 'https://refactoring.guru/images/patterns/diagrams/flyweight/solution1-en.png?id=4b962ce51832e49a24f16f36be79ec45', 'alt': 'Flyweight pattern solution'}, {'pattern_name': 'Flyweight', 'segment_name': 'Pseudocode', 'link': 'https://refactoring.guru/images/patterns/diagrams/flyweight/example.png?id=0818d078c1a79f373e96397f37b7ee06', 'alt': 'Flyweight pattern example'}, {'pattern_name': 'Command', 'segment_name': 'Intent', 'link': 'https://refactoring.guru/images/patterns/content/command/command-en.png?id=80fbadc666cf3b9b1958c546d2746ca4', 'alt': 'Command design&nbsp;pattern'}, {'pattern_name': 'Command', 'segment_name': 'Problem', 'link': 'https://refactoring.guru/images/patterns/diagrams/command/problem1.png?id=84189315a0e8d91da262792979005ab4', 'alt': 'Problem solved by the Command pattern'}, {'pattern_name': 'Command', 'segment_name': 'Solution', 'link': 'https://refactoring.guru/images/patterns/diagrams/command/solution1-en.png?id=ec37db1713fe2c1a9318886590667cfb', 'alt': 'The GUI layer may access the business logic layer directly'}, {'pattern_name': 'Command', 'segment_name': 'Real-World Analogy', 'link': 'https://refactoring.guru/images/patterns/content/command/command-comic-1.png?id=551df832f445080976f3116e0dc120c9', 'alt': 'Making an order in a restaurant'}, {'pattern_name': 'Command', 'segment_name': 'Pseudocode', 'link': 'https://refactoring.guru/images/patterns/diagrams/command/example.png?id=1f42c8395fe54d0e409026b91881e2a0', 'alt': 'Structure of the Command pattern example'}, {'pattern_name': 'Chain of Responsibility', 'segment_name': 'Intent', 'link': 'https://refactoring.guru/images/patterns/content/chain-of-responsibility/chain-of-responsibility.png?id=56c10d0dc712546cc283cfb3fb463458', 'alt': 'Chain of Responsibility design&nbsp;pattern'}, {'pattern_name': 'Chain of Responsibility', 'segment_name': 'Problem', 'link': 'https://refactoring.guru/images/patterns/diagrams/chain-of-responsibility/problem1-en.png?id=dde084d408d2b14d632ba82583d16612', 'alt': 'Problem, solved by Chain of Responsibility'}, {'pattern_name': 'Chain of Responsibility', 'segment_name': 'Solution', 'link': 'https://refactoring.guru/images/patterns/diagrams/chain-of-responsibility/solution1-en.png?id=dccad3e628bd2b8f1856c99369ca6e5b', 'alt': 'Handlers are lined-up one by one, forming a chain'}, {'pattern_name': 'Chain of Responsibility', 'segment_name': 'Real-World Analogy', 'link': 'https://refactoring.guru/images/patterns/content/chain-of-responsibility/chain-of-responsibility-comic-1-en.png?id=bcd771fd1a61c754911bd580cd80463e', 'alt': 'Talking with tech support can be hard'}, {'pattern_name': 'Chain of Responsibility', 'segment_name': 'Pseudocode', 'link': 'https://refactoring.guru/images/patterns/diagrams/chain-of-responsibility/example-en.png?id=4b890b18dbff5193b3b538a438b6c5a4', 'alt': 'Structure of the Chain of Responsibility example'}, {'pattern_name': 'State', 'segment_name': 'Intent', 'link': 'https://refactoring.guru/images/patterns/content/state/state-en.png?id=c323fb8c54e2d57bebf4806c087afb07', 'alt': 'State Design&nbsp;Pattern'}, {'pattern_name': 'State', 'segment_name': 'Problem', 'link': 'https://refactoring.guru/images/patterns/diagrams/state/problem1.png?id=503968745461a0970d1fbb4362dc186f', 'alt': 'Finite-State Machine'}, {'pattern_name': 'State', 'segment_name': 'Solution', 'link': 'https://refactoring.guru/images/patterns/diagrams/state/solution-en.png?id=2db312e603c026421063dddef065b170', 'alt': 'Document delegates the work to a state object'}, {'pattern_name': 'State', 'segment_name': 'Pseudocode', 'link': 'https://refactoring.guru/images/patterns/diagrams/state/example.png?id=1ffdb109b3ebb85d223b9d1651d2034c', 'alt': 'Structure of the State pattern example'}, {'pattern_name': 'Observer', 'segment_name': 'Intent', 'link': 'https://refactoring.guru/images/patterns/content/observer/observer.png?id=6088e31e1b0d4a417506a66614dcf065', 'alt': 'Observer Design&nbsp;Pattern'}, {'pattern_name': 'Observer', 'segment_name': 'Problem', 'link': 'https://refactoring.guru/images/patterns/content/observer/observer-comic-1-en.png?id=1ec8571b22ea8fd2ed537f06cc763152', 'alt': 'Visiting store vs. sending spam'}, {'pattern_name': 'Observer', 'segment_name': 'Solution', 'link': 'https://refactoring.guru/images/patterns/diagrams/observer/solution1-en.png?id=60fb9a2822649dec1c68b78733479c57', 'alt': 'Subscription mechanism'}, {'pattern_name': 'Observer', 'segment_name': 'Real-World Analogy', 'link': 'https://refactoring.guru/images/patterns/content/observer/observer-comic-2-en.png?id=a9be31ab5f90e47b0f250fe9821c34c5', 'alt': 'Magazine and newspaper subscriptions'}, {'pattern_name': 'Observer', 'segment_name': 'Pseudocode', 'link': 'https://refactoring.guru/images/patterns/diagrams/observer/example.png?id=6d0603ab5a00e4463b81d9639cd746a2', 'alt': 'Structure of the Observer pattern example'}, {'pattern_name': 'Proxy', 'segment_name': 'Intent', 'link': 'https://refactoring.guru/images/patterns/content/proxy/proxy.png?id=efece4647fb11e3f7539291796327666', 'alt': 'Proxy design&nbsp;pattern'}, {'pattern_name': 'Proxy', 'segment_name': 'Problem', 'link': 'https://refactoring.guru/images/patterns/diagrams/proxy/problem-en.png?id=b36e65189e939de5dc809636c1946a43', 'alt': 'Problem solved by Proxy pattern'}, {'pattern_name': 'Proxy', 'segment_name': 'Solution', 'link': 'https://refactoring.guru/images/patterns/diagrams/proxy/solution-en.png?id=ab36b8b03fabf92c7dd10ad87507b78c', 'alt': 'Solution with the Proxy pattern'}, {'pattern_name': 'Proxy', 'segment_name': 'Real-World Analogy', 'link': 'https://refactoring.guru/images/patterns/diagrams/proxy/live-example.png?id=a268c57fdaf073ee81cf4dfc7239eae2', 'alt': 'A credit card is a proxy for a bundle of cash'}, {'pattern_name': 'Proxy', 'segment_name': 'Pseudocode', 'link': 'https://refactoring.guru/images/patterns/diagrams/proxy/example.png?id=ddb1402479562b9e2c776933cc861bed', 'alt': 'Structure of the Proxy pattern example'}, {'pattern_name': 'Strategy', 'segment_name': 'Intent', 'link': 'https://refactoring.guru/images/patterns/content/strategy/strategy.png?id=379bfba335380500375881a3da6507e0', 'alt': 'Strategy design&nbsp;pattern'}, {'pattern_name': 'Strategy', 'segment_name': 'Problem', 'link': 'https://refactoring.guru/images/patterns/diagrams/strategy/problem.png?id=e5ca943e559a979bd31d20e232dc22b6', 'alt': 'The code of the navigator became very bloated'}, {'pattern_name': 'Strategy', 'segment_name': 'Solution', 'link': 'https://refactoring.guru/images/patterns/diagrams/strategy/solution.png?id=0813a174b29a2ed5902d321aba28e5fc', 'alt': 'Route planning strategies'}, {'pattern_name': 'Strategy', 'segment_name': 'Real-World Analogy', 'link': 'https://refactoring.guru/images/patterns/content/strategy/strategy-comic-1-en.png?id=f64d7d8e6f83a7792a769039a66007c1', 'alt': 'Various transportation strategies'}, {'pattern_name': 'Facade', 'segment_name': 'Intent', 'link': 'https://refactoring.guru/images/patterns/content/facade/facade.png?id=1f4be17305b6316fbd548edf1937ac3b', 'alt': 'Facade design&nbsp;pattern'}, {'pattern_name': 'Facade', 'segment_name': 'Real-World Analogy', 'link': 'https://refactoring.guru/images/patterns/diagrams/facade/live-example-en.png?id=461900f9fbacdd0ce981dcd24e121078', 'alt': 'An example of taking a phone order'}, {'pattern_name': 'Facade', 'segment_name': 'Pseudocode', 'link': 'https://refactoring.guru/images/patterns/diagrams/facade/example.png?id=2249d134e3ff83819dfc19032f02eced', 'alt': 'The structure of the Facade pattern example'}, {'pattern_name': 'Singleton', 'segment_name': 'Intent', 'link': 'https://refactoring.guru/images/patterns/content/singleton/singleton.png?id=108a0b9b5ea5c4426e0afa4504491d6f', 'alt': 'Singleton&nbsp;pattern'}, {'pattern_name': 'Singleton', 'segment_name': 'Problem', 'link': 'https://refactoring.guru/images/patterns/content/singleton/singleton-comic-1-en.png?id=157509c5693a657ba465c7a9d58a7c25', 'alt': 'The global access to an object'}, {'pattern_name': 'Mediator', 'segment_name': 'Intent', 'link': 'https://refactoring.guru/images/patterns/content/mediator/mediator.png?id=0264bd857a231b6ea2d0c537c092e698', 'alt': 'Mediator design&nbsp;pattern'}, {'pattern_name': 'Mediator', 'segment_name': 'Problem', 'link': 'https://refactoring.guru/images/patterns/diagrams/mediator/problem1-en.png?id=86f99055b3e60bb8834dcc7222922bdf', 'alt': 'Chaotic relations between elements of the user interface'}, {'pattern_name': 'Mediator', 'segment_name': 'Solution', 'link': 'https://refactoring.guru/images/patterns/diagrams/mediator/solution1-en.png?id=dd991a5b7830de8d43f82b084e021713', 'alt': 'UI elements should communicate via the mediator.'}, {'pattern_name': 'Mediator', 'segment_name': 'Real-World Analogy', 'link': 'https://refactoring.guru/images/patterns/diagrams/mediator/live-example.png?id=aa1de3cb7b63aa623e63578a1e43399a', 'alt': 'Air traffic control tower'}, {'pattern_name': 'Mediator', 'segment_name': 'Pseudocode', 'link': 'https://refactoring.guru/images/patterns/diagrams/mediator/example.png?id=3151c153533e816e226be0ef977211e8', 'alt': 'Structure of the Mediator pattern example'}, {'pattern_name': 'Template Method', 'segment_name': 'Intent', 'link': 'https://refactoring.guru/images/patterns/content/template-method/template-method.png?id=eee9461742f832814f19612ccf472819', 'alt': 'Template method design&nbsp;pattern'}, {'pattern_name': 'Template Method', 'segment_name': 'Problem', 'link': 'https://refactoring.guru/images/patterns/diagrams/template-method/problem.png?id=60fa4f735c467ac1c9438231a1782807', 'alt': 'Data mining classes contained a lot of duplicate code'}, {'pattern_name': 'Template Method', 'segment_name': 'Solution', 'link': 'https://refactoring.guru/images/patterns/diagrams/template-method/solution-en.png?id=98cb323d5736539b684da62a0fd49730', 'alt': 'Template method defines the skeleton of the algorithm'}, {'pattern_name': 'Template Method', 'segment_name': 'Real-World Analogy', 'link': 'https://refactoring.guru/images/patterns/diagrams/template-method/live-example.png?id=2485d52852f87da06c9cc0e2fd257d6a', 'alt': 'Mass housing construction'}, {'pattern_name': 'Template Method', 'segment_name': 'Pseudocode', 'link': 'https://refactoring.guru/images/patterns/diagrams/template-method/example.png?id=c0ce5cc8070925a1cd345fac6afa16b6', 'alt': 'Structure of the Template Method pattern example'}]\n"
     ]
    }
   ],
   "source": [
    "pattern_segment_image_relation_SQL = {}\n",
    "p_s_w = {}\n",
    "word_sql = {}\n",
    "import re\n",
    "names_pages = zip(pattern_names, pattern_soups)\n",
    "\n",
    "for name, page in names_pages:\n",
    "  pattern_segment_image_relation_SQL[name] = dict();\n",
    "  p_s_w[name] = dict();\n",
    "\n",
    "  for s in page.select(\"article > .section\"):\n",
    "    segment = s.select(\"h2\")[0].text.strip()\n",
    "    images = s.select(\"h2 ~ figure > img\")\n",
    "    paragraphs = s.select(\"h2 ~ p\")\n",
    "    if len(images) > 0:\n",
    "      link = image_host + images[0].attrs[\"src\"]\n",
    "      alt = images[0].attrs[\"alt\"]\n",
    "      pattern_segment_image_relation_SQL[name][segment] = [link, alt]\n",
    "\n",
    "    if len(paragraphs) > 0:\n",
    "      wordCount = dict()\n",
    "      for p in paragraphs:\n",
    "        word = map(lambda x: re.sub('[^A-Za-z0-9]+', '', x).lower(),p.text.split())\n",
    "        for w in word:\n",
    "          if w in wordCount:\n",
    "            wordCount[w] += 1\n",
    "          else:\n",
    "            wordCount[w] = 1\n",
    "\n",
    "          if w in word_sql:\n",
    "            word_sql[w] += 1\n",
    "          else:\n",
    "            word_sql[w] = 1\n",
    "\n",
    "      p_s_w[name][segment] = wordCount\n",
    "\n",
    "\n",
    "p_s_w_sql = [{\n",
    "  \"pattern_name\": p,\n",
    "  \"segment_name\": s,\n",
    "  \"word\": w,\n",
    "  \"count\": p_s_w[p][s][w]\n",
    "} for p in p_s_w for s in p_s_w[p] for w in p_s_w[p][s]]\n",
    "\n",
    "\n",
    "word_sql = [{\n",
    "  \"word\": w,\n",
    "  \"total_count\": word_sql[w]}\n",
    " for w in word_sql]\n",
    "\n",
    "pattern_segment_image_relation_SQL = [\n",
    "  {\n",
    "    \"pattern_name\": p,\n",
    "    \"segment_name\": s,\n",
    "    \"link\": pattern_segment_image_relation_SQL[p][s][0],\n",
    "    \"alt\": pattern_segment_image_relation_SQL[p][s][1],\n",
    "  }\n",
    "  for p in pattern_segment_image_relation_SQL for s in pattern_segment_image_relation_SQL[p]\n",
    "]\n",
    "\n",
    "print(pattern_segment_image_relation_SQL)\n",
    "\n",
    "\n"
   ],
   "metadata": {
    "collapsed": false,
    "pycharm": {
     "name": "#%%\n"
    }
   }
  },
  {
   "cell_type": "markdown",
   "source": [
    "We can retrieve every word in the data so that we can use it in the future"
   ],
   "metadata": {
    "collapsed": false,
    "pycharm": {
     "name": "#%% md\n"
    }
   }
  },
  {
   "cell_type": "code",
   "execution_count": 9,
   "outputs": [],
   "source": [
    "json_data = {}\n",
    "\n",
    "json_data[\"patterns\"] = pattern_link_rels\n",
    "json_data[\"segments\"] = segment_entities_SQL\n",
    "json_data[\"pattern_segment\"] = segment_pattern_relation_SQL\n",
    "json_data[\"words\"] = word_sql\n",
    "json_data[\"word_locations\"] = p_s_w_sql\n",
    "json_data[\"images\"] = pattern_segment_image_relation_SQL\n",
    "\n",
    "import json\n",
    "with open('../data/data_based_on_ER_model.json', 'w', encoding='utf-8') as f:\n",
    "  json.dump(json_data, f, ensure_ascii=False, indent=4)"
   ],
   "metadata": {
    "collapsed": false,
    "pycharm": {
     "name": "#%%\n"
    }
   }
  }
 ],
 "metadata": {
  "interpreter": {
   "hash": "6aff6889e4dbbca9a425d7cc44d8f14da737fb739d2c94c05bd65e5b4c235f03"
  },
  "kernelspec": {
   "display_name": "Python 3.10.5 64-bit",
   "language": "python",
   "name": "python3"
  },
  "language_info": {
   "codemirror_mode": {
    "name": "ipython",
    "version": 3
   },
   "file_extension": ".py",
   "mimetype": "text/x-python",
   "name": "python",
   "nbconvert_exporter": "python",
   "pygments_lexer": "ipython3",
   "version": "3.10.5"
  },
  "orig_nbformat": 4
 },
 "nbformat": 4,
 "nbformat_minor": 2
}